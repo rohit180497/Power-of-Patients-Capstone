{
 "cells": [
  {
   "cell_type": "code",
   "execution_count": 1,
   "id": "59b7296b",
   "metadata": {},
   "outputs": [],
   "source": [
    "import os\n",
    "import pandas as pd\n",
    "import numpy as np\n",
    "from pydbmanager.connection import DatabaseConnection\n",
    "from pydbmanager.operations import DatabaseOperations\n",
    "from dotenv import load_dotenv\n",
    "import warnings\n",
    "warnings.filterwarnings('ignore')"
   ]
  },
  {
   "cell_type": "markdown",
   "id": "e99db4be",
   "metadata": {},
   "source": [
    "## Database connection"
   ]
  },
  {
   "cell_type": "code",
   "execution_count": 2,
   "id": "139bb742",
   "metadata": {},
   "outputs": [
    {
     "name": "stderr",
     "output_type": "stream",
     "text": [
      "2025-05-09 19:34:33,726 - INFO - Database connection established successfully.\n",
      "2025-05-09 19:34:33,728 - INFO - Database connection closed\n"
     ]
    },
    {
     "name": "stdout",
     "output_type": "stream",
     "text": [
      "✅ Connection Successful!\n"
     ]
    }
   ],
   "source": [
    "# Load environment variables\n",
    "load_dotenv()\n",
    "\n",
    "# Initialize and test database connection\n",
    "db = DatabaseConnection()\n",
    "conn = db.create_connection()\n",
    "\n",
    "if conn:\n",
    "    print(\"\\u2705 Connection Successful!\")\n",
    "    db.close_connection()\n",
    "else:\n",
    "    print(\"\\u274c Connection Failed!\")"
   ]
  },
  {
   "cell_type": "code",
   "execution_count": 3,
   "id": "dcffd98a",
   "metadata": {},
   "outputs": [
    {
     "name": "stderr",
     "output_type": "stream",
     "text": [
      "2025-05-09 19:34:33,939 - INFO - Database connection established successfully.\n",
      "2025-05-09 19:34:33,952 - INFO - Query executed in 0.0125 seconds\n"
     ]
    },
    {
     "data": {
      "text/html": [
       "<div>\n",
       "<style scoped>\n",
       "    .dataframe tbody tr th:only-of-type {\n",
       "        vertical-align: middle;\n",
       "    }\n",
       "\n",
       "    .dataframe tbody tr th {\n",
       "        vertical-align: top;\n",
       "    }\n",
       "\n",
       "    .dataframe thead th {\n",
       "        text-align: right;\n",
       "    }\n",
       "</style>\n",
       "<table border=\"1\" class=\"dataframe\">\n",
       "  <thead>\n",
       "    <tr style=\"text-align: right;\">\n",
       "      <th></th>\n",
       "      <th>patient_id</th>\n",
       "      <th>first_name</th>\n",
       "      <th>last_name</th>\n",
       "      <th>date_of_birth</th>\n",
       "      <th>gender</th>\n",
       "      <th>patient_type</th>\n",
       "      <th>external_id</th>\n",
       "      <th>patient_sub_type</th>\n",
       "    </tr>\n",
       "  </thead>\n",
       "  <tbody>\n",
       "    <tr>\n",
       "      <th>0</th>\n",
       "      <td>5c96ba1a-8b2d-49bc-8e8e-b07761948286</td>\n",
       "      <td>Robin</td>\n",
       "      <td>Lopez</td>\n",
       "      <td>1973-05-23</td>\n",
       "      <td>female</td>\n",
       "      <td>caregiver</td>\n",
       "      <td>NULL</td>\n",
       "      <td>NULL</td>\n",
       "    </tr>\n",
       "    <tr>\n",
       "      <th>1</th>\n",
       "      <td>eda39327-b38f-41de-a46a-8782787369b7</td>\n",
       "      <td>Justin</td>\n",
       "      <td>Macks</td>\n",
       "      <td>1991-07-10</td>\n",
       "      <td>male</td>\n",
       "      <td>caregiver</td>\n",
       "      <td>NULL</td>\n",
       "      <td>NULL</td>\n",
       "    </tr>\n",
       "    <tr>\n",
       "      <th>2</th>\n",
       "      <td>6a7f7ce9-f63e-4651-b941-a25ce116de74</td>\n",
       "      <td>sandra</td>\n",
       "      <td>kinstle</td>\n",
       "      <td>1955-02-15</td>\n",
       "      <td>female</td>\n",
       "      <td>caregiver</td>\n",
       "      <td>NULL</td>\n",
       "      <td>NULL</td>\n",
       "    </tr>\n",
       "    <tr>\n",
       "      <th>3</th>\n",
       "      <td>096d402a-5fcd-41dd-b59b-b3089cf06742</td>\n",
       "      <td>Jing</td>\n",
       "      <td>Gu</td>\n",
       "      <td>1971-12-24</td>\n",
       "      <td>male</td>\n",
       "      <td>Stroke</td>\n",
       "      <td>NULL</td>\n",
       "      <td>PreviousStrokeUser</td>\n",
       "    </tr>\n",
       "    <tr>\n",
       "      <th>4</th>\n",
       "      <td>1715cc3c-bea6-4d7e-aad3-b2f96338ba60</td>\n",
       "      <td>Bootsie</td>\n",
       "      <td>Brenner</td>\n",
       "      <td>1958-01-28</td>\n",
       "      <td>female</td>\n",
       "      <td>Stroke</td>\n",
       "      <td>NULL</td>\n",
       "      <td>PreviousStrokeUser</td>\n",
       "    </tr>\n",
       "  </tbody>\n",
       "</table>\n",
       "</div>"
      ],
      "text/plain": [
       "                             patient_id first_name last_name date_of_birth  \\\n",
       "0  5c96ba1a-8b2d-49bc-8e8e-b07761948286     Robin     Lopez     1973-05-23   \n",
       "1  eda39327-b38f-41de-a46a-8782787369b7     Justin     Macks    1991-07-10   \n",
       "2  6a7f7ce9-f63e-4651-b941-a25ce116de74     sandra   kinstle    1955-02-15   \n",
       "3  096d402a-5fcd-41dd-b59b-b3089cf06742       Jing        Gu    1971-12-24   \n",
       "4  1715cc3c-bea6-4d7e-aad3-b2f96338ba60    Bootsie   Brenner    1958-01-28   \n",
       "\n",
       "   gender patient_type external_id    patient_sub_type  \n",
       "0  female    caregiver        NULL                NULL  \n",
       "1    male    caregiver        NULL                NULL  \n",
       "2  female    caregiver        NULL                NULL  \n",
       "3    male       Stroke        NULL  PreviousStrokeUser  \n",
       "4  female       Stroke        NULL  PreviousStrokeUser  "
      ]
     },
     "execution_count": 3,
     "metadata": {},
     "output_type": "execute_result"
    }
   ],
   "source": [
    "db_ops = DatabaseOperations()\n",
    "\n",
    "# testing the connection with a simple query\n",
    "test = db_ops.query_data(\"SELECT top 10 * FROM patient_info\", batch_size=5)\n",
    "test.head()"
   ]
  },
  {
   "cell_type": "markdown",
   "id": "351483fa",
   "metadata": {},
   "source": [
    "## Data Loading"
   ]
  },
  {
   "cell_type": "markdown",
   "id": "40fbcd7e",
   "metadata": {},
   "source": [
    "#### Patient Info ####"
   ]
  },
  {
   "cell_type": "code",
   "execution_count": 4,
   "id": "37aa3ee5",
   "metadata": {},
   "outputs": [],
   "source": [
    "with open('../sql/patient_demo.sql', 'r') as file:\n",
    "    patient_demo_sql = file.read()"
   ]
  },
  {
   "cell_type": "code",
   "execution_count": 5,
   "id": "2927522f",
   "metadata": {},
   "outputs": [
    {
     "name": "stderr",
     "output_type": "stream",
     "text": [
      "2025-05-09 19:34:35,103 - INFO - Query executed in 0.1589 seconds\n"
     ]
    },
    {
     "data": {
      "text/html": [
       "<div>\n",
       "<style scoped>\n",
       "    .dataframe tbody tr th:only-of-type {\n",
       "        vertical-align: middle;\n",
       "    }\n",
       "\n",
       "    .dataframe tbody tr th {\n",
       "        vertical-align: top;\n",
       "    }\n",
       "\n",
       "    .dataframe thead th {\n",
       "        text-align: right;\n",
       "    }\n",
       "</style>\n",
       "<table border=\"1\" class=\"dataframe\">\n",
       "  <thead>\n",
       "    <tr style=\"text-align: right;\">\n",
       "      <th></th>\n",
       "      <th>patient_id</th>\n",
       "      <th>first_name</th>\n",
       "      <th>last_name</th>\n",
       "      <th>date_of_birth</th>\n",
       "      <th>postal_code</th>\n",
       "      <th>user_type</th>\n",
       "      <th>registered_at</th>\n",
       "      <th>country</th>\n",
       "      <th>referral_group</th>\n",
       "      <th>veteran</th>\n",
       "      <th>ethnicity</th>\n",
       "      <th>race</th>\n",
       "      <th>city</th>\n",
       "      <th>state</th>\n",
       "      <th>dark_mode</th>\n",
       "      <th>gender</th>\n",
       "      <th>patient_type</th>\n",
       "      <th>patient_sub_type</th>\n",
       "      <th>head_hit_count</th>\n",
       "      <th>has_tbi_before</th>\n",
       "    </tr>\n",
       "  </thead>\n",
       "  <tbody>\n",
       "    <tr>\n",
       "      <th>0</th>\n",
       "      <td>0006ad41-c2d3-4994-8aab-7a3a107d50aa</td>\n",
       "      <td>CAROLINE</td>\n",
       "      <td>SUONG</td>\n",
       "      <td>1981-12-09</td>\n",
       "      <td>20866</td>\n",
       "      <td>patient</td>\n",
       "      <td>2022-06-08 16:37:57</td>\n",
       "      <td>US</td>\n",
       "      <td>BIA-GA</td>\n",
       "      <td>no</td>\n",
       "      <td>No</td>\n",
       "      <td>Korean</td>\n",
       "      <td>Burtonsville</td>\n",
       "      <td>MD</td>\n",
       "      <td>false</td>\n",
       "      <td>female</td>\n",
       "      <td>TBI/Concussion</td>\n",
       "      <td>tbiPatient</td>\n",
       "      <td>1.0</td>\n",
       "      <td>None</td>\n",
       "    </tr>\n",
       "    <tr>\n",
       "      <th>1</th>\n",
       "      <td>00469456-99a5-4c99-aa48-a918986c7c45</td>\n",
       "      <td>Lynsey</td>\n",
       "      <td>Alexander</td>\n",
       "      <td>1981-04-08</td>\n",
       "      <td>G66 8EG</td>\n",
       "      <td>patient</td>\n",
       "      <td>2021-05-19 15:27:06</td>\n",
       "      <td>GB</td>\n",
       "      <td>none</td>\n",
       "      <td>NULL</td>\n",
       "      <td>NULL</td>\n",
       "      <td>NULL</td>\n",
       "      <td>East Dunbartonshire</td>\n",
       "      <td>SCT</td>\n",
       "      <td>false</td>\n",
       "      <td>female</td>\n",
       "      <td>TBI/Concussion</td>\n",
       "      <td>tbiPatient</td>\n",
       "      <td>1.0</td>\n",
       "      <td>None</td>\n",
       "    </tr>\n",
       "    <tr>\n",
       "      <th>2</th>\n",
       "      <td>00469456-99a5-4c99-aa48-a918986c7c45</td>\n",
       "      <td>Lynsey</td>\n",
       "      <td>Alexander</td>\n",
       "      <td>1981-04-08</td>\n",
       "      <td>G66 8EG</td>\n",
       "      <td>patient</td>\n",
       "      <td>2021-05-19 21:12:51</td>\n",
       "      <td>GB</td>\n",
       "      <td>none</td>\n",
       "      <td>NULL</td>\n",
       "      <td>NULL</td>\n",
       "      <td>NULL</td>\n",
       "      <td>East Dunbartonshire</td>\n",
       "      <td>SCT</td>\n",
       "      <td>false</td>\n",
       "      <td>female</td>\n",
       "      <td>TBI/Concussion</td>\n",
       "      <td>tbiPatient</td>\n",
       "      <td>1.0</td>\n",
       "      <td>None</td>\n",
       "    </tr>\n",
       "    <tr>\n",
       "      <th>3</th>\n",
       "      <td>00e179cd-5edb-47fe-be53-b1e96e905433</td>\n",
       "      <td>Neil</td>\n",
       "      <td>Langrick</td>\n",
       "      <td>1963-11-30</td>\n",
       "      <td>WF178HZ</td>\n",
       "      <td>caregiver</td>\n",
       "      <td>2022-05-28 14:09:05</td>\n",
       "      <td>GB</td>\n",
       "      <td>NONE</td>\n",
       "      <td>notToAnswer</td>\n",
       "      <td>NULL</td>\n",
       "      <td>NULL</td>\n",
       "      <td>West Yorkshire</td>\n",
       "      <td>ENG</td>\n",
       "      <td>false</td>\n",
       "      <td>male</td>\n",
       "      <td>Other</td>\n",
       "      <td>Acquired Brain Injury</td>\n",
       "      <td>NaN</td>\n",
       "      <td>Yes</td>\n",
       "    </tr>\n",
       "    <tr>\n",
       "      <th>4</th>\n",
       "      <td>00e179cd-5edb-47fe-be53-b1e96e905433</td>\n",
       "      <td>Neil</td>\n",
       "      <td>Langrick</td>\n",
       "      <td>1963-11-30</td>\n",
       "      <td>WF17 8HZ</td>\n",
       "      <td>patient</td>\n",
       "      <td>2023-04-25 07:13:36</td>\n",
       "      <td>GB</td>\n",
       "      <td>none</td>\n",
       "      <td>no</td>\n",
       "      <td>notToAnswer</td>\n",
       "      <td>Prefer not to answer</td>\n",
       "      <td>zipcodeNotInLibrary</td>\n",
       "      <td>zipcodeNotInLibrary</td>\n",
       "      <td>false</td>\n",
       "      <td>male</td>\n",
       "      <td>Other</td>\n",
       "      <td>Acquired Brain Injury</td>\n",
       "      <td>NaN</td>\n",
       "      <td>Yes</td>\n",
       "    </tr>\n",
       "  </tbody>\n",
       "</table>\n",
       "</div>"
      ],
      "text/plain": [
       "                             patient_id first_name  last_name date_of_birth  \\\n",
       "0  0006ad41-c2d3-4994-8aab-7a3a107d50aa   CAROLINE      SUONG    1981-12-09   \n",
       "1  00469456-99a5-4c99-aa48-a918986c7c45     Lynsey  Alexander    1981-04-08   \n",
       "2  00469456-99a5-4c99-aa48-a918986c7c45     Lynsey  Alexander    1981-04-08   \n",
       "3  00e179cd-5edb-47fe-be53-b1e96e905433       Neil   Langrick    1963-11-30   \n",
       "4  00e179cd-5edb-47fe-be53-b1e96e905433       Neil   Langrick    1963-11-30   \n",
       "\n",
       "  postal_code  user_type       registered_at country referral_group  \\\n",
       "0       20866    patient 2022-06-08 16:37:57      US         BIA-GA   \n",
       "1     G66 8EG    patient 2021-05-19 15:27:06      GB           none   \n",
       "2    G66 8EG     patient 2021-05-19 21:12:51      GB           none   \n",
       "3     WF178HZ  caregiver 2022-05-28 14:09:05      GB           NONE   \n",
       "4   WF17 8HZ     patient 2023-04-25 07:13:36      GB           none   \n",
       "\n",
       "       veteran    ethnicity                   race                 city  \\\n",
       "0           no           No                 Korean         Burtonsville   \n",
       "1         NULL         NULL                   NULL  East Dunbartonshire   \n",
       "2         NULL         NULL                   NULL  East Dunbartonshire   \n",
       "3  notToAnswer         NULL                   NULL       West Yorkshire   \n",
       "4           no  notToAnswer  Prefer not to answer   zipcodeNotInLibrary   \n",
       "\n",
       "                 state dark_mode  gender    patient_type  \\\n",
       "0                   MD     false  female  TBI/Concussion   \n",
       "1                  SCT     false  female  TBI/Concussion   \n",
       "2                  SCT     false  female  TBI/Concussion   \n",
       "3                  ENG     false    male           Other   \n",
       "4  zipcodeNotInLibrary     false    male           Other   \n",
       "\n",
       "        patient_sub_type  head_hit_count has_tbi_before  \n",
       "0             tbiPatient             1.0           None  \n",
       "1             tbiPatient             1.0           None  \n",
       "2             tbiPatient             1.0           None  \n",
       "3  Acquired Brain Injury             NaN            Yes  \n",
       "4  Acquired Brain Injury             NaN            Yes  "
      ]
     },
     "execution_count": 5,
     "metadata": {},
     "output_type": "execute_result"
    }
   ],
   "source": [
    "patient_demo = db_ops.query_data(patient_demo_sql)\n",
    "patient_demo.head()"
   ]
  },
  {
   "cell_type": "code",
   "execution_count": 6,
   "id": "66ea27dc",
   "metadata": {},
   "outputs": [
    {
     "data": {
      "text/plain": [
       "(1256, 20)"
      ]
     },
     "execution_count": 6,
     "metadata": {},
     "output_type": "execute_result"
    }
   ],
   "source": [
    "patient_demo.shape"
   ]
  },
  {
   "cell_type": "code",
   "execution_count": 7,
   "id": "643b4c35",
   "metadata": {},
   "outputs": [
    {
     "name": "stdout",
     "output_type": "stream",
     "text": [
      "<class 'pandas.core.frame.DataFrame'>\n",
      "RangeIndex: 1256 entries, 0 to 1255\n",
      "Data columns (total 20 columns):\n",
      " #   Column            Non-Null Count  Dtype         \n",
      "---  ------            --------------  -----         \n",
      " 0   patient_id        1256 non-null   object        \n",
      " 1   first_name        1256 non-null   object        \n",
      " 2   last_name         1256 non-null   object        \n",
      " 3   date_of_birth     1256 non-null   object        \n",
      " 4   postal_code       1256 non-null   object        \n",
      " 5   user_type         1256 non-null   object        \n",
      " 6   registered_at     1256 non-null   datetime64[ns]\n",
      " 7   country           1039 non-null   object        \n",
      " 8   referral_group    935 non-null    object        \n",
      " 9   veteran           1256 non-null   object        \n",
      " 10  ethnicity         1256 non-null   object        \n",
      " 11  race              1256 non-null   object        \n",
      " 12  city              1241 non-null   object        \n",
      " 13  state             1241 non-null   object        \n",
      " 14  dark_mode         1256 non-null   object        \n",
      " 15  gender            1256 non-null   object        \n",
      " 16  patient_type      1250 non-null   object        \n",
      " 17  patient_sub_type  1256 non-null   object        \n",
      " 18  head_hit_count    964 non-null    float64       \n",
      " 19  has_tbi_before    69 non-null     object        \n",
      "dtypes: datetime64[ns](1), float64(1), object(18)\n",
      "memory usage: 196.4+ KB\n"
     ]
    },
    {
     "data": {
      "text/plain": [
       "country            217\n",
       "referral_group     321\n",
       "city                15\n",
       "state               15\n",
       "patient_type         6\n",
       "head_hit_count     292\n",
       "has_tbi_before    1187\n",
       "dtype: int64"
      ]
     },
     "execution_count": 7,
     "metadata": {},
     "output_type": "execute_result"
    }
   ],
   "source": [
    "patient_demo.info()\n",
    "# Check for missing values in the dataset       \n",
    "missing_values = patient_demo.isnull().sum()\n",
    "missing_values[missing_values > 0]"
   ]
  },
  {
   "cell_type": "code",
   "execution_count": 8,
   "id": "7a68e995",
   "metadata": {},
   "outputs": [],
   "source": [
    "def check_missing_values(df):\n",
    "    for col in df.columns:\n",
    "        # Count string-based nulls (case-insensitive)\n",
    "        string_nulls = df[col].astype(str).str.lower().isin(['null', 'none']).sum()\n",
    "        \n",
    "        if string_nulls > 0:\n",
    "            print(f\"Column '{col}' has {string_nulls} missing values (including 'NULL', 'None')\")"
   ]
  },
  {
   "cell_type": "code",
   "execution_count": 9,
   "id": "c791eeae",
   "metadata": {},
   "outputs": [
    {
     "name": "stdout",
     "output_type": "stream",
     "text": [
      "Column 'country' has 220 missing values (including 'NULL', 'None')\n",
      "Column 'referral_group' has 831 missing values (including 'NULL', 'None')\n",
      "Column 'veteran' has 706 missing values (including 'NULL', 'None')\n",
      "Column 'ethnicity' has 717 missing values (including 'NULL', 'None')\n",
      "Column 'race' has 717 missing values (including 'NULL', 'None')\n",
      "Column 'city' has 240 missing values (including 'NULL', 'None')\n",
      "Column 'state' has 240 missing values (including 'NULL', 'None')\n",
      "Column 'patient_type' has 6 missing values (including 'NULL', 'None')\n",
      "Column 'patient_sub_type' has 86 missing values (including 'NULL', 'None')\n",
      "Column 'has_tbi_before' has 1187 missing values (including 'NULL', 'None')\n"
     ]
    }
   ],
   "source": [
    "check_missing_values(patient_demo)"
   ]
  },
  {
   "cell_type": "code",
   "execution_count": 10,
   "id": "90f6217b",
   "metadata": {},
   "outputs": [],
   "source": [
    "for col in patient_demo.columns:\n",
    "    patient_demo[col] = (\n",
    "        patient_demo[col]\n",
    "        .astype(str)\n",
    "        .str.strip()  \n",
    "        .str.lower()\n",
    "        .replace(['null', 'none', ''], np.nan)\n",
    "    )"
   ]
  },
  {
   "cell_type": "code",
   "execution_count": 11,
   "id": "71236e3b",
   "metadata": {},
   "outputs": [],
   "source": [
    "patient_demo['country'].fillna('Not Specified', inplace=True)\n",
    "patient_demo['city'].fillna('Not Specified', inplace=True)\n",
    "patient_demo['state'].fillna('Not Specified', inplace=True)"
   ]
  },
  {
   "cell_type": "code",
   "execution_count": 12,
   "id": "9f538887",
   "metadata": {},
   "outputs": [],
   "source": [
    "patient_demo['veteran'].fillna('No', inplace=True)\n",
    "patient_demo['race'].fillna('Not Specified', inplace=True)\n",
    "patient_demo['referral_group'].fillna('other', inplace=True)\n",
    "patient_demo['ethnicity'].fillna('No', inplace=True)\n",
    "patient_demo['patient_type'].fillna('Other', inplace=True)\n",
    "patient_demo['patient_sub_type'].fillna('Not Specified', inplace=True)"
   ]
  },
  {
   "cell_type": "code",
   "execution_count": 22,
   "id": "57f41594",
   "metadata": {},
   "outputs": [],
   "source": [
    "# Convert 'nan' string to actual NaN\n",
    "patient_demo['head_hit_count'] = patient_demo['head_hit_count'].replace('nan', np.nan)\n",
    "\n",
    "# Now replace NaN with 0\n",
    "patient_demo['head_hit_count'].fillna(0, inplace=True)"
   ]
  },
  {
   "cell_type": "code",
   "execution_count": 23,
   "id": "912a518c",
   "metadata": {},
   "outputs": [
    {
     "data": {
      "text/plain": [
       "patient_id             0\n",
       "first_name             0\n",
       "last_name              0\n",
       "date_of_birth          0\n",
       "postal_code            0\n",
       "user_type              0\n",
       "registered_at          0\n",
       "country                0\n",
       "referral_group         0\n",
       "veteran                0\n",
       "ethnicity              0\n",
       "race                   0\n",
       "city                   0\n",
       "state                  0\n",
       "dark_mode              0\n",
       "gender                 0\n",
       "patient_type           0\n",
       "patient_sub_type       0\n",
       "head_hit_count         0\n",
       "has_tbi_before      1183\n",
       "age                    0\n",
       "dtype: int64"
      ]
     },
     "execution_count": 23,
     "metadata": {},
     "output_type": "execute_result"
    }
   ],
   "source": [
    "patient_demo.isna().sum()"
   ]
  },
  {
   "cell_type": "code",
   "execution_count": 15,
   "id": "f0403fbc",
   "metadata": {},
   "outputs": [],
   "source": [
    "# calculating patient age from date of birth\n",
    "patient_demo['date_of_birth'] = pd.to_datetime(patient_demo['date_of_birth'])\n",
    "patient_demo['registered_at'] = pd.to_datetime(patient_demo['registered_at'])\n",
    "# Calculate age in years    \n",
    "patient_demo['age'] = (patient_demo['registered_at'] - patient_demo['date_of_birth']).dt.days // 365"
   ]
  },
  {
   "cell_type": "code",
   "execution_count": 16,
   "id": "740cd474",
   "metadata": {},
   "outputs": [],
   "source": [
    "# filtering out patients with age less than 10 or greater than 79\n",
    "patient_demo = patient_demo[patient_demo['age'] > 10]"
   ]
  },
  {
   "cell_type": "code",
   "execution_count": 17,
   "id": "e4316145",
   "metadata": {},
   "outputs": [],
   "source": [
    "# filtering out the patients with user_type 4\n",
    "patient_demo = patient_demo[patient_demo['user_type']!='4']"
   ]
  },
  {
   "cell_type": "code",
   "execution_count": 25,
   "id": "329b6556",
   "metadata": {},
   "outputs": [],
   "source": [
    "patient_demo['has_tbi_before'].fillna('Not Specified', inplace=True)"
   ]
  },
  {
   "cell_type": "code",
   "execution_count": null,
   "id": "6374239b",
   "metadata": {},
   "outputs": [],
   "source": [
    "# patient_demo.to_clipboard()"
   ]
  },
  {
   "cell_type": "code",
   "execution_count": 27,
   "id": "7a443036",
   "metadata": {},
   "outputs": [],
   "source": [
    "patient_demo.to_csv('../data/patient_demographic_data.csv', index=False)"
   ]
  },
  {
   "cell_type": "markdown",
   "id": "edc76961",
   "metadata": {},
   "source": [
    "#### TBI Incident"
   ]
  },
  {
   "cell_type": "code",
   "execution_count": 28,
   "id": "2812be08",
   "metadata": {},
   "outputs": [
    {
     "name": "stderr",
     "output_type": "stream",
     "text": [
      "2025-05-09 19:43:20,423 - INFO - Query executed in 0.0411 seconds\n"
     ]
    },
    {
     "data": {
      "text/html": [
       "<div>\n",
       "<style scoped>\n",
       "    .dataframe tbody tr th:only-of-type {\n",
       "        vertical-align: middle;\n",
       "    }\n",
       "\n",
       "    .dataframe tbody tr th {\n",
       "        vertical-align: top;\n",
       "    }\n",
       "\n",
       "    .dataframe thead th {\n",
       "        text-align: right;\n",
       "    }\n",
       "</style>\n",
       "<table border=\"1\" class=\"dataframe\">\n",
       "  <thead>\n",
       "    <tr style=\"text-align: right;\">\n",
       "      <th></th>\n",
       "      <th>id</th>\n",
       "      <th>tbi_incident_date</th>\n",
       "      <th>describe_event</th>\n",
       "      <th>injury_from</th>\n",
       "      <th>head_hit_location</th>\n",
       "      <th>patient_id</th>\n",
       "      <th>total_tbi</th>\n",
       "      <th>immediate_symptoms_resulting</th>\n",
       "      <th>num_head_hit_location</th>\n",
       "    </tr>\n",
       "  </thead>\n",
       "  <tbody>\n",
       "    <tr>\n",
       "      <th>0</th>\n",
       "      <td>1080</td>\n",
       "      <td>2013-07-31</td>\n",
       "      <td>I was riding a longboard to my friends house w...</td>\n",
       "      <td>Fall</td>\n",
       "      <td>Left Side of Head</td>\n",
       "      <td>efd7682b-adde-4b6f-b2d7-16f50597c984</td>\n",
       "      <td>1</td>\n",
       "      <td>Loss of Consciousness,Disorientation,Incoheren...</td>\n",
       "      <td>NULL</td>\n",
       "    </tr>\n",
       "    <tr>\n",
       "      <th>1</th>\n",
       "      <td>1164</td>\n",
       "      <td>2024-04-03</td>\n",
       "      <td>On april 3, i was preforming my work duties . ...</td>\n",
       "      <td>Accident</td>\n",
       "      <td>Left Side of Head</td>\n",
       "      <td>bb8e0677-ddc8-49dd-be08-ab6f10ad43f3</td>\n",
       "      <td>1</td>\n",
       "      <td>Disorientation,Confusion,Dazed or Vacant Stare</td>\n",
       "      <td>NULL</td>\n",
       "    </tr>\n",
       "    <tr>\n",
       "      <th>2</th>\n",
       "      <td>1105</td>\n",
       "      <td>2023-05-23</td>\n",
       "      <td>Drank a bottle of window cleaner with amonia.</td>\n",
       "      <td>Collision</td>\n",
       "      <td>Front of Head,Back of Head</td>\n",
       "      <td>4471257f-7b52-4278-9654-e56cab633e67</td>\n",
       "      <td>5</td>\n",
       "      <td>Loss of Consciousness,Disorientation,Confusion...</td>\n",
       "      <td>NULL</td>\n",
       "    </tr>\n",
       "    <tr>\n",
       "      <th>3</th>\n",
       "      <td>1051</td>\n",
       "      <td>2022-06-26</td>\n",
       "      <td>I was tubing on a lake behind a boat and got t...</td>\n",
       "      <td>Accident</td>\n",
       "      <td>Front of Head,Right Side of Head,Back of Head,...</td>\n",
       "      <td>cfba5f4c-8266-4e4c-bcf8-36e423ab0e35</td>\n",
       "      <td>2</td>\n",
       "      <td>Disorientation,Confusion,Dazed or Vacant Stare</td>\n",
       "      <td>NULL</td>\n",
       "    </tr>\n",
       "    <tr>\n",
       "      <th>4</th>\n",
       "      <td>1121</td>\n",
       "      <td>2023-07-11</td>\n",
       "      <td>Car Accident</td>\n",
       "      <td>Accident</td>\n",
       "      <td>Neck</td>\n",
       "      <td>fd6392ce-544f-4248-bf6a-9d9e454c8dfd</td>\n",
       "      <td>3</td>\n",
       "      <td>Memory Loss,Sound sensitivity,Confusion,Disori...</td>\n",
       "      <td>NULL</td>\n",
       "    </tr>\n",
       "  </tbody>\n",
       "</table>\n",
       "</div>"
      ],
      "text/plain": [
       "     id tbi_incident_date                                     describe_event  \\\n",
       "0  1080        2013-07-31  I was riding a longboard to my friends house w...   \n",
       "1  1164        2024-04-03  On april 3, i was preforming my work duties . ...   \n",
       "2  1105        2023-05-23      Drank a bottle of window cleaner with amonia.   \n",
       "3  1051        2022-06-26  I was tubing on a lake behind a boat and got t...   \n",
       "4  1121        2023-07-11                                       Car Accident   \n",
       "\n",
       "  injury_from                                  head_hit_location  \\\n",
       "0        Fall                                  Left Side of Head   \n",
       "1    Accident                                  Left Side of Head   \n",
       "2   Collision                         Front of Head,Back of Head   \n",
       "3    Accident  Front of Head,Right Side of Head,Back of Head,...   \n",
       "4    Accident                                               Neck   \n",
       "\n",
       "                             patient_id  total_tbi  \\\n",
       "0  efd7682b-adde-4b6f-b2d7-16f50597c984          1   \n",
       "1  bb8e0677-ddc8-49dd-be08-ab6f10ad43f3          1   \n",
       "2  4471257f-7b52-4278-9654-e56cab633e67          5   \n",
       "3  cfba5f4c-8266-4e4c-bcf8-36e423ab0e35          2   \n",
       "4  fd6392ce-544f-4248-bf6a-9d9e454c8dfd          3   \n",
       "\n",
       "                        immediate_symptoms_resulting num_head_hit_location  \n",
       "0  Loss of Consciousness,Disorientation,Incoheren...                  NULL  \n",
       "1     Disorientation,Confusion,Dazed or Vacant Stare                  NULL  \n",
       "2  Loss of Consciousness,Disorientation,Confusion...                  NULL  \n",
       "3     Disorientation,Confusion,Dazed or Vacant Stare                  NULL  \n",
       "4  Memory Loss,Sound sensitivity,Confusion,Disori...                  NULL  "
      ]
     },
     "execution_count": 28,
     "metadata": {},
     "output_type": "execute_result"
    }
   ],
   "source": [
    "tbi_inc = db_ops.query_data(\"select * from tbi_incident\")\n",
    "tbi_inc.head()"
   ]
  },
  {
   "cell_type": "code",
   "execution_count": 29,
   "id": "e0399cbe",
   "metadata": {},
   "outputs": [
    {
     "data": {
      "text/plain": [
       "(981, 9)"
      ]
     },
     "execution_count": 29,
     "metadata": {},
     "output_type": "execute_result"
    }
   ],
   "source": [
    "tbi_inc.shape"
   ]
  },
  {
   "cell_type": "code",
   "execution_count": 30,
   "id": "ac67c8f2",
   "metadata": {},
   "outputs": [],
   "source": [
    "tbi_inc['tbi_incident_date'] = tbi_inc['tbi_incident_date'].astype(str).str.replace('1015-12-08', '2015-12-08')\n",
    "tbi_inc['tbi_incident_date'] = pd.to_datetime(tbi_inc['tbi_incident_date'], errors='coerce')"
   ]
  },
  {
   "cell_type": "code",
   "execution_count": 31,
   "id": "362d815d",
   "metadata": {},
   "outputs": [],
   "source": [
    "for col in tbi_inc.columns:\n",
    "    tbi_inc[col] = (\n",
    "        tbi_inc[col]\n",
    "        .astype(str)\n",
    "        .str.strip()  \n",
    "        .str.lower()\n",
    "        .replace(['null', 'none', ''], np.nan)\n",
    "    )"
   ]
  },
  {
   "cell_type": "code",
   "execution_count": 32,
   "id": "11fb07f5",
   "metadata": {},
   "outputs": [
    {
     "data": {
      "text/plain": [
       "id                                0\n",
       "tbi_incident_date                 0\n",
       "describe_event                    4\n",
       "injury_from                      36\n",
       "head_hit_location                72\n",
       "patient_id                        0\n",
       "total_tbi                         0\n",
       "immediate_symptoms_resulting     53\n",
       "num_head_hit_location           191\n",
       "dtype: int64"
      ]
     },
     "execution_count": 32,
     "metadata": {},
     "output_type": "execute_result"
    }
   ],
   "source": [
    "tbi_inc.isnull().sum()"
   ]
  },
  {
   "cell_type": "code",
   "execution_count": 33,
   "id": "7e46cb1e",
   "metadata": {},
   "outputs": [],
   "source": [
    "tbi_inc['describe_event'].fillna('Not Specified', inplace=True)\n",
    "tbi_inc['injury_from'].fillna('Not Specified', inplace=True)\n",
    "tbi_inc['head_hit_location'].fillna('Not Specified', inplace=True)\n",
    "tbi_inc['immediate_symptoms_resulting'].fillna('Not Specified', inplace=True)\n",
    "tbi_inc['num_head_hit_location'].fillna('Not Specified', inplace=True)"
   ]
  },
  {
   "cell_type": "code",
   "execution_count": 34,
   "id": "a178e630",
   "metadata": {},
   "outputs": [
    {
     "data": {
      "text/plain": [
       "id                              0\n",
       "tbi_incident_date               0\n",
       "describe_event                  0\n",
       "injury_from                     0\n",
       "head_hit_location               0\n",
       "patient_id                      0\n",
       "total_tbi                       0\n",
       "immediate_symptoms_resulting    0\n",
       "num_head_hit_location           0\n",
       "dtype: int64"
      ]
     },
     "execution_count": 34,
     "metadata": {},
     "output_type": "execute_result"
    }
   ],
   "source": [
    "tbi_inc.isna().sum()"
   ]
  },
  {
   "cell_type": "code",
   "execution_count": 37,
   "id": "734c8a9a",
   "metadata": {},
   "outputs": [],
   "source": [
    "tbi_inc = tbi_inc[tbi_inc['total_tbi'].astype(int)<15]"
   ]
  },
  {
   "cell_type": "code",
   "execution_count": 39,
   "id": "6e6c24cf",
   "metadata": {},
   "outputs": [],
   "source": [
    "tbi_inc.to_csv('../data/tbi_incident_data.csv', index=False)"
   ]
  }
 ],
 "metadata": {
  "kernelspec": {
   "display_name": ".venv",
   "language": "python",
   "name": "python3"
  },
  "language_info": {
   "codemirror_mode": {
    "name": "ipython",
    "version": 3
   },
   "file_extension": ".py",
   "mimetype": "text/x-python",
   "name": "python",
   "nbconvert_exporter": "python",
   "pygments_lexer": "ipython3",
   "version": "3.10.0"
  }
 },
 "nbformat": 4,
 "nbformat_minor": 5
}
