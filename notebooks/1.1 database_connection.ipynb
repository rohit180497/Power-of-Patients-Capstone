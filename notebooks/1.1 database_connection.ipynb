{
 "cells": [
  {
   "cell_type": "code",
   "execution_count": 4,
   "id": "59b7296b",
   "metadata": {},
   "outputs": [],
   "source": [
    "import os\n",
    "import pandas as pd\n",
    "import numpy as np\n",
    "from pydbmanager.connection import DatabaseConnection\n",
    "from pydbmanager.operations import DatabaseOperations\n",
    "from dotenv import load_dotenv"
   ]
  },
  {
   "cell_type": "code",
   "execution_count": 2,
   "id": "139bb742",
   "metadata": {},
   "outputs": [
    {
     "name": "stderr",
     "output_type": "stream",
     "text": [
      "2025-05-09 12:15:32,456 - INFO - Database connection established successfully.\n",
      "2025-05-09 12:15:32,456 - INFO - Database connection closed\n"
     ]
    },
    {
     "name": "stdout",
     "output_type": "stream",
     "text": [
      "✅ Connection Successful!\n"
     ]
    }
   ],
   "source": [
    "# Load environment variables\n",
    "load_dotenv()\n",
    "\n",
    "# Initialize and test database connection\n",
    "db = DatabaseConnection()\n",
    "conn = db.create_connection()\n",
    "\n",
    "if conn:\n",
    "    print(\"\\u2705 Connection Successful!\")\n",
    "    db.close_connection()\n",
    "else:\n",
    "    print(\"\\u274c Connection Failed!\")"
   ]
  },
  {
   "cell_type": "code",
   "execution_count": 5,
   "id": "dcffd98a",
   "metadata": {},
   "outputs": [
    {
     "name": "stderr",
     "output_type": "stream",
     "text": [
      "2025-05-09 12:16:57,581 - INFO - Database connection established successfully.\n"
     ]
    },
    {
     "name": "stderr",
     "output_type": "stream",
     "text": [
      "2025-05-09 12:16:57,710 - INFO - Query executed in 0.1119 seconds\n"
     ]
    },
    {
     "data": {
      "text/html": [
       "<div>\n",
       "<style scoped>\n",
       "    .dataframe tbody tr th:only-of-type {\n",
       "        vertical-align: middle;\n",
       "    }\n",
       "\n",
       "    .dataframe tbody tr th {\n",
       "        vertical-align: top;\n",
       "    }\n",
       "\n",
       "    .dataframe thead th {\n",
       "        text-align: right;\n",
       "    }\n",
       "</style>\n",
       "<table border=\"1\" class=\"dataframe\">\n",
       "  <thead>\n",
       "    <tr style=\"text-align: right;\">\n",
       "      <th></th>\n",
       "      <th>patient_id</th>\n",
       "      <th>first_name</th>\n",
       "      <th>last_name</th>\n",
       "      <th>date_of_birth</th>\n",
       "      <th>gender</th>\n",
       "      <th>patient_type</th>\n",
       "      <th>external_id</th>\n",
       "      <th>patient_sub_type</th>\n",
       "    </tr>\n",
       "  </thead>\n",
       "  <tbody>\n",
       "    <tr>\n",
       "      <th>0</th>\n",
       "      <td>5c96ba1a-8b2d-49bc-8e8e-b07761948286</td>\n",
       "      <td>Robin</td>\n",
       "      <td>Lopez</td>\n",
       "      <td>1973-05-23</td>\n",
       "      <td>female</td>\n",
       "      <td>caregiver</td>\n",
       "      <td>NULL</td>\n",
       "      <td>NULL</td>\n",
       "    </tr>\n",
       "    <tr>\n",
       "      <th>1</th>\n",
       "      <td>eda39327-b38f-41de-a46a-8782787369b7</td>\n",
       "      <td>Justin</td>\n",
       "      <td>Macks</td>\n",
       "      <td>1991-07-10</td>\n",
       "      <td>male</td>\n",
       "      <td>caregiver</td>\n",
       "      <td>NULL</td>\n",
       "      <td>NULL</td>\n",
       "    </tr>\n",
       "    <tr>\n",
       "      <th>2</th>\n",
       "      <td>6a7f7ce9-f63e-4651-b941-a25ce116de74</td>\n",
       "      <td>sandra</td>\n",
       "      <td>kinstle</td>\n",
       "      <td>1955-02-15</td>\n",
       "      <td>female</td>\n",
       "      <td>caregiver</td>\n",
       "      <td>NULL</td>\n",
       "      <td>NULL</td>\n",
       "    </tr>\n",
       "    <tr>\n",
       "      <th>3</th>\n",
       "      <td>096d402a-5fcd-41dd-b59b-b3089cf06742</td>\n",
       "      <td>Jing</td>\n",
       "      <td>Gu</td>\n",
       "      <td>1971-12-24</td>\n",
       "      <td>male</td>\n",
       "      <td>Stroke</td>\n",
       "      <td>NULL</td>\n",
       "      <td>PreviousStrokeUser</td>\n",
       "    </tr>\n",
       "    <tr>\n",
       "      <th>4</th>\n",
       "      <td>1715cc3c-bea6-4d7e-aad3-b2f96338ba60</td>\n",
       "      <td>Bootsie</td>\n",
       "      <td>Brenner</td>\n",
       "      <td>1958-01-28</td>\n",
       "      <td>female</td>\n",
       "      <td>Stroke</td>\n",
       "      <td>NULL</td>\n",
       "      <td>PreviousStrokeUser</td>\n",
       "    </tr>\n",
       "  </tbody>\n",
       "</table>\n",
       "</div>"
      ],
      "text/plain": [
       "                             patient_id first_name last_name date_of_birth  \\\n",
       "0  5c96ba1a-8b2d-49bc-8e8e-b07761948286     Robin     Lopez     1973-05-23   \n",
       "1  eda39327-b38f-41de-a46a-8782787369b7     Justin     Macks    1991-07-10   \n",
       "2  6a7f7ce9-f63e-4651-b941-a25ce116de74     sandra   kinstle    1955-02-15   \n",
       "3  096d402a-5fcd-41dd-b59b-b3089cf06742       Jing        Gu    1971-12-24   \n",
       "4  1715cc3c-bea6-4d7e-aad3-b2f96338ba60    Bootsie   Brenner    1958-01-28   \n",
       "\n",
       "   gender patient_type external_id    patient_sub_type  \n",
       "0  female    caregiver        NULL                NULL  \n",
       "1    male    caregiver        NULL                NULL  \n",
       "2  female    caregiver        NULL                NULL  \n",
       "3    male       Stroke        NULL  PreviousStrokeUser  \n",
       "4  female       Stroke        NULL  PreviousStrokeUser  "
      ]
     },
     "execution_count": 5,
     "metadata": {},
     "output_type": "execute_result"
    }
   ],
   "source": [
    "db_ops = DatabaseOperations()\n",
    "\n",
    "# Fetch all users\n",
    "df = db_ops.query_data(\"SELECT top 10 * FROM patient_info\", batch_size=5)\n",
    "df.head()"
   ]
  },
  {
   "cell_type": "code",
   "execution_count": null,
   "id": "351483fa",
   "metadata": {},
   "outputs": [],
   "source": []
  },
  {
   "cell_type": "code",
   "execution_count": null,
   "id": "37aa3ee5",
   "metadata": {},
   "outputs": [],
   "source": []
  },
  {
   "cell_type": "code",
   "execution_count": null,
   "id": "2927522f",
   "metadata": {},
   "outputs": [],
   "source": []
  },
  {
   "cell_type": "code",
   "execution_count": null,
   "id": "66ea27dc",
   "metadata": {},
   "outputs": [],
   "source": []
  }
 ],
 "metadata": {
  "kernelspec": {
   "display_name": ".venv",
   "language": "python",
   "name": "python3"
  },
  "language_info": {
   "codemirror_mode": {
    "name": "ipython",
    "version": 3
   },
   "file_extension": ".py",
   "mimetype": "text/x-python",
   "name": "python",
   "nbconvert_exporter": "python",
   "pygments_lexer": "ipython3",
   "version": "3.10.0"
  }
 },
 "nbformat": 4,
 "nbformat_minor": 5
}
